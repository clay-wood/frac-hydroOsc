{
 "cells": [
  {
   "cell_type": "code",
   "execution_count": null,
   "id": "active-remark",
   "metadata": {},
   "outputs": [],
   "source": [
    "import numpy as np\n",
    "import matplotlib.pyplot as plt\n",
    "\n",
    "with open('/Volumes/DOE/calibrations_27Jan/tt242_sr_hg.txt','r') as f_open:\n",
    "    raw_cal = f_open.read()"
   ]
  },
  {
   "cell_type": "code",
   "execution_count": 2,
   "id": "centered-return",
   "metadata": {},
   "outputs": [],
   "source": [
    "raw_cal_hdr = raw_cal.split('\\n')[0:10]\n",
    "\n",
    "raw_cal_dat = raw_cal.split('\\n')[10::]"
   ]
  },
  {
   "cell_type": "code",
   "execution_count": 3,
   "id": "decent-stone",
   "metadata": {},
   "outputs": [],
   "source": [
    "test = [x.split(',') for x in raw_cal_dat]\n",
    "\n",
    "test2 = np.array([a for b in test for a in b])[0:-1].astype('f')"
   ]
  },
  {
   "cell_type": "code",
   "execution_count": 8,
   "id": "legislative-wrapping",
   "metadata": {},
   "outputs": [
    {
     "data": {
      "text/plain": [
       "(array([ 0.623748,  0.862185,  1.102352,  1.213596,  1.336497,  1.431438,\n",
       "         1.546187,  1.634768,  1.727767,  1.804953,  1.878221,  1.9204  ,\n",
       "         1.977246,  2.03825 ,  2.113574,  2.224616,  2.356234,  2.448412,\n",
       "         2.585271,  2.726835,  2.871168,  3.092614,  3.194488,  3.295433,\n",
       "         3.378513,  3.494922,  3.63954 ,  3.809312,  3.906262,  4.029103,\n",
       "         4.225645,  4.357114,  4.506538,  4.649383,  4.787552,  4.897402,\n",
       "         5.023346,  5.253889,  5.404419,  5.563056,  5.676098,  5.837427,\n",
       "         6.015957,  6.174694,  6.347736,  6.51285 ,  6.709146,  6.860911,\n",
       "         7.059692,  7.257816,  7.43207 ,  7.620189,  7.79564 ,  7.965619,\n",
       "         8.168733,  8.406415,  8.612113,  8.819449,  9.096766,  9.35809 ,\n",
       "         9.649151,  9.915151, 10.122697, 10.390076, 10.709543, 10.903784,\n",
       "        10.903784, 10.903784], dtype=float32),\n",
       " array([ 0.  , -0.16, -0.32, -0.39, -0.47, -0.53, -0.61, -0.66, -0.72,\n",
       "        -0.78, -0.82, -0.85, -0.89, -0.93, -0.98, -1.05, -1.14, -1.19,\n",
       "        -1.28, -1.37, -1.47, -1.62, -1.68, -1.74, -1.8 , -1.87, -1.97,\n",
       "        -2.08, -2.15, -2.23, -2.35, -2.44, -2.54, -2.64, -2.72, -2.79,\n",
       "        -2.88, -3.03, -3.13, -3.23, -3.31, -3.41, -3.53, -3.64, -3.75,\n",
       "        -3.86, -3.99, -4.09, -4.22, -4.34, -4.46, -4.58, -4.7 , -4.81,\n",
       "        -4.94, -5.1 , -5.23, -5.36, -5.54, -5.71, -5.9 , -6.08, -6.21,\n",
       "        -6.37, -6.59, -6.77, -6.95, -7.13], dtype=float32))"
      ]
     },
     "execution_count": 8,
     "metadata": {},
     "output_type": "execute_result"
    }
   ],
   "source": [
    "volt = test2[0::2]\n",
    "disp = test2[1::2]\n",
    "\n",
    "# volt, disp"
   ]
  },
  {
   "cell_type": "code",
   "execution_count": 21,
   "id": "lined-biography",
   "metadata": {},
   "outputs": [],
   "source": [
    "z = np.polyfit(volt[0:-2], disp[0:-2], 1)\n",
    "cal = np.poly1d(z)"
   ]
  },
  {
   "cell_type": "code",
   "execution_count": 31,
   "id": "initial-fiction",
   "metadata": {},
   "outputs": [
    {
     "data": {
      "image/png": "[encoded data removed]",
      "text/plain": [
       "<Figure size 432x288 with 1 Axes>"
      ]
     },
     "metadata": {
      "needs_background": "light"
     },
     "output_type": "display_data"
    }
   ],
   "source": [
    "xp = np.linspace(-1, 12, 20)\n",
    "\n",
    "plt.plot(volt, disp, 'r.')\n",
    "plt.plot(xp, cal(xp), 'k-')\n",
    "\n",
    "plt.xlabel('Volt'), plt.ylabel('mm')\n",
    "\n",
    "plt.show()"
   ]
  },
  {
   "cell_type": "code",
   "execution_count": 34,
   "id": "defensive-turtle",
   "metadata": {},
   "outputs": [
    {
     "data": {
      "text/plain": [
       "-0.6544506268917897"
      ]
     },
     "execution_count": 34,
     "metadata": {},
     "output_type": "execute_result"
    }
   ],
   "source": [
    "calibration, _ = cal\n",
    "calibration"
   ]
  }
 ],
 "metadata": {
  "kernelspec": {
   "display_name": "Python 3",
   "language": "python",
   "name": "python3"
  },
  "language_info": {
   "codemirror_mode": {
    "name": "ipython",
    "version": 3
   },
   "file_extension": ".py",
   "mimetype": "text/x-python",
   "name": "python",
   "nbconvert_exporter": "python",
   "pygments_lexer": "ipython3",
   "version": "3.9.1"
  }
 },
 "nbformat": 4,
 "nbformat_minor": 5
}
